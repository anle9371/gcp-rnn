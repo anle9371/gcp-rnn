{
 "cells": [
  {
   "cell_type": "code",
   "execution_count": 1,
   "metadata": {},
   "outputs": [],
   "source": [
    "import tensorflow as tf\n",
    "from utilities import *"
   ]
  },
  {
   "cell_type": "code",
   "execution_count": 2,
   "metadata": {},
   "outputs": [],
   "source": [
    "mydir = 'checkpoints'\n",
    "\n",
    "X_train, labels_train, list_ch_train = read_data(data_path=\"./data/\", split=\"train\") # train\n",
    "X_test, labels_test, list_ch_test = read_data(data_path=\"./data/\", split=\"test\") # test\n",
    "\n",
    "assert list_ch_train == list_ch_test, \"Mistmatch in channels!\"\n",
    "\n",
    "# Standardize\n",
    "X_train, X_test = standardize(X_train, X_test) \n",
    "y_test = one_hot(labels_test)\n",
    "batch_size = 600       # Batch size"
   ]
  },
  {
   "cell_type": "code",
   "execution_count": 3,
   "metadata": {},
   "outputs": [
    {
     "name": "stdout",
     "output_type": "stream",
     "text": [
      "INFO:tensorflow:Restoring parameters from checkpoints/har-lstm\n"
     ]
    }
   ],
   "source": [
    "sess = tf.Session()\n",
    "test_acc = []\n",
    "\n",
    "saver = tf.train.import_meta_graph(mydir + '/har-lstm.meta')\n",
    "saver.restore(sess, tf.train.latest_checkpoint(mydir))\n",
    "graph = tf.get_default_graph() \n",
    "\n",
    "inputs_ = graph.get_tensor_by_name(\"inputs:0\")\n",
    "accuracy = graph.get_tensor_by_name(\"accuracy:0\")\n",
    "labels_ = graph.get_tensor_by_name(\"labels:0\")\n",
    "keep_prob_ = graph.get_tensor_by_name(\"keep:0\")"
   ]
  },
  {
   "cell_type": "code",
   "execution_count": 4,
   "metadata": {},
   "outputs": [
    {
     "name": "stdout",
     "output_type": "stream",
     "text": [
      "Test accuracy: 0.911250\n",
      "CPU times: user 3.52 s, sys: 56 ms, total: 3.58 s\n",
      "Wall time: 4.67 s\n"
     ]
    }
   ],
   "source": [
    "%%time\n",
    "for x_t, y_t in get_batches(X_test, y_test, batch_size):\n",
    "    feed = {inputs_: x_t,\n",
    "            labels_: y_t,\n",
    "            keep_prob_: 1}\n",
    "    batch_acc = sess.run(accuracy, feed_dict=feed)\n",
    "    test_acc.append(batch_acc)\n",
    "\n",
    "print(\"Test accuracy: {:.6f}\".format(np.mean(test_acc)))"
   ]
  },
  {
   "cell_type": "code",
   "execution_count": null,
   "metadata": {},
   "outputs": [],
   "source": []
  }
 ],
 "metadata": {
  "kernelspec": {
   "display_name": "Python 3",
   "language": "python",
   "name": "python3"
  },
  "language_info": {
   "codemirror_mode": {
    "name": "ipython",
    "version": 2
   },
   "file_extension": ".py",
   "mimetype": "text/x-python",
   "name": "python",
   "nbconvert_exporter": "python",
   "pygments_lexer": "ipython2",
   "version": "2.7.12"
  }
 },
 "nbformat": 4,
 "nbformat_minor": 2
}
